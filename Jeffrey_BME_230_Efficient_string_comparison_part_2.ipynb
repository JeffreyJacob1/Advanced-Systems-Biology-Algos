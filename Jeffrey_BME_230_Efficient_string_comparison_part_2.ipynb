{
  "nbformat": 4,
  "nbformat_minor": 0,
  "metadata": {
    "colab": {
      "provenance": []
    },
    "kernelspec": {
      "name": "python3",
      "display_name": "Python 3"
    }
  },
  "cells": [
    {
      "cell_type": "code",
      "metadata": {
        "id": "EWxTJeWpxuL_"
      },
      "source": [
        "# Problem 1: Build a simple, list based k-mer index of a string to be searched\n",
        "\n",
        "# Example adapted from Ben Langmead (thanks!)\n",
        "\n",
        "\n",
        "import bisect\n",
        "import sys\n",
        "\n",
        "\n",
        "class Index(object):\n",
        "    def __init__(self, t, k):\n",
        "        ''' Create index from all substrings of size 'length' '''\n",
        "        self.t = t\n",
        "        self.k = k  # k-mer length (k)\n",
        "        self.index = {}  # changed index to a dictionary\n",
        "        for i in range(len(t) - k + 1):\n",
        "            kmer = t[i:i+k]\n",
        "            offset = i\n",
        "            if kmer in self.index:\n",
        "                self.index[kmer].append(offset)\n",
        "            else:\n",
        "                self.index[kmer] = [offset]\n",
        "\n",
        "    def queryKmer(self, kmer):\n",
        "        ''' Return locations of kmer in t'''\n",
        "        return self.index.get(kmer, [])  # return an empty list if kmer not found in index\n",
        "\n",
        "    def query(self, p):\n",
        "        ''' Return occurrences of pattern p in t'''\n",
        "        kmer = p[:self.k]\n",
        "        offsets = self.queryKmer(kmer)\n",
        "        occurrences = []\n",
        "        for offset in offsets:\n",
        "            if p == self.t[offset:offset+len(p)]:\n",
        "                occurrences.append(offset)\n",
        "        return occurrences\n",
        "\n",
        "text = 'ACTTGGAGATCTTTGAGGCTAGGTATTCGGGATCGAAGCTCATTTCGGGGATCGATTACGATATGGTGGGTATTCGGGA'\n",
        "pattern = 'GGTATTCGGGA'\n",
        "K = 3\n",
        "\n",
        "index = Index(text, K)\n",
        "\n",
        "    \n",
        "   \n",
        "     \n",
        "\n"
      ],
      "execution_count": 134,
      "outputs": []
    },
    {
      "cell_type": "code",
      "metadata": {
        "id": "nYLOQCGv4-sK",
        "outputId": "12e50a8d-5a3f-48e3-b1bf-61e6311002b5",
        "colab": {
          "base_uri": "https://localhost:8080/"
        }
      },
      "source": [
        "# Test queryKmer method\n",
        "index.queryKmer(\"GGT\") == [21, 64, 68]"
      ],
      "execution_count": 135,
      "outputs": [
        {
          "output_type": "execute_result",
          "data": {
            "text/plain": [
              "True"
            ]
          },
          "metadata": {},
          "execution_count": 135
        }
      ]
    },
    {
      "cell_type": "code",
      "metadata": {
        "id": "iv8OP2Xi5HCJ",
        "outputId": "e5b112d0-2455-4247-b389-acb5d491a7b6",
        "colab": {
          "base_uri": "https://localhost:8080/"
        }
      },
      "source": [
        "# Test query method\n",
        "index.query(pattern) == [21, 68]"
      ],
      "execution_count": 136,
      "outputs": [
        {
          "output_type": "execute_result",
          "data": {
            "text/plain": [
              "True"
            ]
          },
          "metadata": {},
          "execution_count": 136
        }
      ]
    },
    {
      "cell_type": "code",
      "metadata": {
        "id": "XVEVCzBU5leC",
        "outputId": "90a3573e-49b8-4522-c361-e88c4a188814",
        "colab": {
          "base_uri": "https://localhost:8080/"
        }
      },
      "source": [
        "# Report index specificity\n",
        "float(len(index.query(pattern)))/len(index.queryKmer(pattern[:K]))"
      ],
      "execution_count": 137,
      "outputs": [
        {
          "output_type": "execute_result",
          "data": {
            "text/plain": [
              "0.6666666666666666"
            ]
          },
          "metadata": {},
          "execution_count": 137
        }
      ]
    },
    {
      "cell_type": "code",
      "metadata": {
        "id": "XMScHko85RzN"
      },
      "source": [
        "# Problem 2: Build a simple suffix array\n",
        "\n",
        "class SuffixArray(object):\n",
        "    def __init__(self, t):\n",
        "        self.td = t + \"$\"\n",
        "        self.index = list(range(len(self.td)))\n",
        "        self.index.sort(key=lambda i : self.td[i:])\n",
        "\n",
        "    def query(self, p):\n",
        "        left, right = 0, len(self.index) - 1\n",
        "        while left <= right:\n",
        "            mid = (left + right) // 2\n",
        "            if self.td[self.index[mid]:].startswith(p):\n",
        "                break\n",
        "            elif self.td[self.index[mid]:] < p:\n",
        "                left = mid + 1\n",
        "            else:\n",
        "                right = mid - 1\n",
        "        if left > right:\n",
        "            return []\n",
        "        left, right = mid, mid\n",
        "        while left >= 0 and self.td[self.index[left]:].startswith(p):\n",
        "            left -= 1\n",
        "        while right < len(self.index) and self.td[self.index[right]:].startswith(p):\n",
        "            right += 1\n",
        "        return [i-len(p) for i in self.index[left+1:right]]\n",
        "\n",
        "\n",
        "\n",
        "\n"
      ],
      "execution_count": 143,
      "outputs": []
    },
    {
      "cell_type": "code",
      "metadata": {
        "id": "5YL7qI8uSWGc",
        "outputId": "e94edb2b-2c6c-441e-de12-40058e07b75d",
        "colab": {
          "base_uri": "https://localhost:8080/"
        }
      },
      "source": [
        "# Test suffix array construction\n",
        "sa = SuffixArray(\"ATA\")\n",
        "sa.index == [ 3, 2, 0, 1 ]"
      ],
      "execution_count": 139,
      "outputs": [
        {
          "output_type": "execute_result",
          "data": {
            "text/plain": [
              "True"
            ]
          },
          "metadata": {},
          "execution_count": 139
        }
      ]
    },
    {
      "cell_type": "code",
      "metadata": {
        "id": "oNaNt7xJSyt4",
        "outputId": "48ff714b-fa01-4ac2-bf57-80a2eb117bf1",
        "colab": {
          "base_uri": "https://localhost:8080/"
        }
      },
      "source": [
        "# Test suffix array search\n",
        "sa = SuffixArray(text)\n",
        "sorted(sa.query(pattern)) == [21, 68]"
      ],
      "execution_count": 142,
      "outputs": [
        {
          "output_type": "execute_result",
          "data": {
            "text/plain": [
              "False"
            ]
          },
          "metadata": {},
          "execution_count": 142
        }
      ]
    }
  ]
}