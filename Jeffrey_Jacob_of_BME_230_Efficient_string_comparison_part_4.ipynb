{
  "nbformat": 4,
  "nbformat_minor": 0,
  "metadata": {
    "colab": {
      "provenance": []
    },
    "kernelspec": {
      "name": "python3",
      "display_name": "Python 3"
    }
  },
  "cells": [
    {
      "metadata": {
        "id": "pwJBZj6ShzO9"
      },
      "cell_type": "code",
      "source": [
        "# Problem 1 - Implement the Needleman-Wunsch algorithm \n",
        "# to compute the optimal alignment for a pair of sequences\n",
        "import numpy\n",
        "\n",
        "class NeedlemanWunsch(object):\n",
        "    def __init__(self, string1, string2, gapScore=-2, matchScore=3, mismatchScore=-3):\n",
        "        self.string1 = string1\n",
        "        self.string2 = string2\n",
        "        self.gapScore = gapScore\n",
        "        self.matchScore = matchScore\n",
        "        self.mismatchScore = mismatchScore\n",
        "        self.editMatrix = numpy.zeros(shape=[len(string1)+1, len(string2)+1])\n",
        "\n",
        "        #initialize the first column and the first row of the matrix with gap scores\n",
        "        for i in range(len(string1)+1):\n",
        "            self.editMatrix[i][0] = i * gapScore\n",
        "        for j in range(len(string2)+1):\n",
        "            self.editMatrix[0][j] = j * gapScore\n",
        "\n",
        "        #fill the matrix with the optimal alignment scores\n",
        "        for i in range(1, len(string1)+1):\n",
        "            for j in range(1, len(string2)+1):\n",
        "                match = self.editMatrix[i-1][j-1] + (matchScore if string1[i-1] == string2[j-1] else mismatchScore)\n",
        "                delete = self.editMatrix[i-1][j] + gapScore\n",
        "                insert = self.editMatrix[i][j-1] + gapScore\n",
        "                self.editMatrix[i][j] = max(match, delete, insert)\n",
        "\n",
        "    def getAlignmentScore(self):\n",
        "        \"\"\" Return the alignment score\n",
        "        \"\"\"\n",
        "        return self.editMatrix[len(self.string1)][len(self.string2)]\n",
        "    def getAlignment(self):\n",
        "        \"\"\" Returns an optimal global alignment of two strings. Aligned\n",
        "        is returned as an ordered list of aligned pairs.\n",
        "        \n",
        "        e.g. For the two strings GATTACA and TACA an global alignment is\n",
        "        is GATTACA\n",
        "           ---TACA\n",
        "        This alignment would be returned as:\n",
        "        \n",
        "        [(3, 0), (4, 1), (5, 2), (6, 3)]\n",
        "        \"\"\"\n",
        "        \n",
        "        alignedPairs = []\n",
        "        x, y = (self.editMatrix.shape)\n",
        "        x-=1; y-=1\n",
        "        while x>0 or y>0:\n",
        "            if x>0 and y>0 and self.editMatrix[x][y] == self.editMatrix[x-1][y-1] + (self.matchScore if self.string1[x-1] == self.string2[y-1] else self.mismatchScore):\n",
        "                alignedPairs.append((x-1, y-1))\n",
        "                x -= 1\n",
        "                y -= 1\n",
        "            elif x>0 and self.editMatrix[x][y] == self.editMatrix[x-1][y] + self.gapScore:\n",
        "                x -= 1\n",
        "            elif y>0 and self.editMatrix[x][y] == self.editMatrix[x][y-1] + self.gapScore:\n",
        "                y -= 1\n",
        "        alignedPairs.reverse()\n",
        "        return alignedPairs\n",
        "\n",
        "\n",
        "\n",
        "\n",
        "\n",
        "string1 = \"GATTACA\"\n",
        "string2 =   \"TACA\"\n",
        "\n",
        "needlemanWunsch = NeedlemanWunsch(string1, string2)\n",
        "\n",
        "\n",
        "     "
      ],
      "execution_count": 19,
      "outputs": []
    },
    {
      "metadata": {
        "id": "WiJ88ahanEs5",
        "outputId": "9e98ff2a-d124-4366-89ec-5ddbe7a47a5a",
        "colab": {
          "base_uri": "https://localhost:8080/"
        }
      },
      "cell_type": "code",
      "source": [
        "# Test the edit matrix get built right\n",
        "\n",
        "needlemanWunsch.editMatrix == [[  0,  -2,  -4,  -6,  -8],\n",
        "       [ -2,  -3,  -5,  -7,  -9],\n",
        "       [ -4,  -5,   0,  -2,  -4],\n",
        "       [ -6,  -1,  -2,  -3,  -5],\n",
        "       [ -8,  -3,  -4,  -5,  -6],\n",
        "       [-10,  -5,   0,  -2,  -2],\n",
        "       [-12,  -7,  -2,   3,   1],\n",
        "       [-14,  -9,  -4,   1,   6]]"
      ],
      "execution_count": 25,
      "outputs": [
        {
          "output_type": "execute_result",
          "data": {
            "text/plain": [
              "array([[ True,  True,  True,  True,  True],\n",
              "       [ True,  True,  True,  True,  True],\n",
              "       [ True,  True,  True,  True,  True],\n",
              "       [ True,  True,  True,  True,  True],\n",
              "       [ True,  True,  True,  True,  True],\n",
              "       [ True,  True,  True,  True,  True],\n",
              "       [ True,  True,  True,  True,  True],\n",
              "       [ True,  True,  True,  True,  True]])"
            ]
          },
          "metadata": {},
          "execution_count": 25
        }
      ]
    },
    {
      "metadata": {
        "id": "jePuKQqWpZsh",
        "outputId": "93605ee2-7f6e-40ab-b668-92c4473f700f",
        "colab": {
          "base_uri": "https://localhost:8080/"
        }
      },
      "cell_type": "code",
      "source": [
        "# Test the score function\n",
        "\n",
        "needlemanWunsch.getAlignmentScore() == 6"
      ],
      "execution_count": 26,
      "outputs": [
        {
          "output_type": "execute_result",
          "data": {
            "text/plain": [
              "True"
            ]
          },
          "metadata": {},
          "execution_count": 26
        }
      ]
    },
    {
      "metadata": {
        "id": "_ArQmM4Iqp5L",
        "outputId": "4146917d-74eb-489a-edcb-916cdd38a09e",
        "colab": {
          "base_uri": "https://localhost:8080/"
        }
      },
      "cell_type": "code",
      "source": [
        "# Test the get alignment function\n",
        "\n",
        "needlemanWunsch.getAlignment() == [(3, 0), (4, 1), (5, 2), (6, 3)]"
      ],
      "execution_count": 24,
      "outputs": [
        {
          "output_type": "execute_result",
          "data": {
            "text/plain": [
              "True"
            ]
          },
          "metadata": {},
          "execution_count": 24
        }
      ]
    }
  ]
}