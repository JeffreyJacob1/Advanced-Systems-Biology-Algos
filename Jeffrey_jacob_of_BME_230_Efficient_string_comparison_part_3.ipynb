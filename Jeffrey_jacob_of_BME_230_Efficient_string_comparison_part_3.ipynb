{
  "nbformat": 4,
  "nbformat_minor": 0,
  "metadata": {
    "colab": {
      "provenance": []
    },
    "kernelspec": {
      "name": "python3",
      "display_name": "Python 3"
    }
  },
  "cells": [
    {
      "cell_type": "code",
      "metadata": {
        "id": "173pjFDiwTdM",
        "outputId": "44e47877-02b5-4659-954a-99332aa5dbb5",
        "colab": {
          "base_uri": "https://localhost:8080/"
        }
      },
      "source": [
        "# Problem 1 - Build the BWT\n",
        "\n",
        "def makeBwt(t):\n",
        "    t = t + \"$\" \n",
        "    rotations = []\n",
        "    for i in range(len(t)):\n",
        "        rotation = t[i:] + t[:i]\n",
        "        rotations.append(rotation)\n",
        "    rotations.sort() \n",
        "    bwt = \"\"\n",
        "    for i in range(len(rotations)):\n",
        "        bwt += rotations[i][-1]\n",
        "    return bwt\n",
        "\n",
        "\n",
        "\n",
        "\n",
        "\n",
        "\n",
        "text = \"GATTACA\"\n",
        "\n",
        "bwt = makeBwt(text)\n",
        "\n",
        "bwt == \"ACTGA$TA\"\n"
      ],
      "execution_count": null,
      "outputs": [
        {
          "output_type": "execute_result",
          "data": {
            "text/plain": [
              "True"
            ]
          },
          "metadata": {},
          "execution_count": 1
        }
      ]
    },
    {
      "cell_type": "code",
      "metadata": {
        "id": "LkOQQdDIzpz2",
        "outputId": "ba42a5c5-5497-4553-9c94-7645d8069b38",
        "colab": {
          "base_uri": "https://localhost:8080/"
        }
      },
      "source": [
        "bwt = \"ACTGA$TA\"\n",
        "text = \"GATTACA\"\n",
        "# Problem 2 - Invert the BWT\n",
        "\n",
        "def invertBwt(bwt):\n",
        "    table = [\"\"] * len(bwt)\n",
        "    for i in range(len(bwt)):\n",
        "        table = sorted([c + table[i] for i, c in enumerate(bwt)])\n",
        "    \n",
        "    for s in table:\n",
        "        if s.endswith(\"$\"):\n",
        "            return s\n",
        "\n",
        "  \n",
        "\n",
        "\n",
        "invertBwt(bwt) == text + \"$\""
      ],
      "execution_count": null,
      "outputs": [
        {
          "output_type": "execute_result",
          "data": {
            "text/plain": [
              "True"
            ]
          },
          "metadata": {},
          "execution_count": 4
        }
      ]
    },
    {
      "cell_type": "code",
      "metadata": {
        "id": "KsnqBYpl7md2",
        "outputId": "10669b6a-fe07-4980-b33a-40cebfd76d91",
        "colab": {
          "base_uri": "https://localhost:8080/"
        }
      },
      "source": [
        "# Problem 3 - Complete Last-to-First mapping using FM-index\n",
        "bwt = \"ACTGA$TA\"\n",
        "text = \"GATTACA\"\n",
        "\n",
        "class FmIndex:\n",
        "    def __init__(self, t, alphabet):\n",
        "        self.bwt = makeBwt(t)\n",
        "        self.alphabet = alphabet\n",
        "        self.C = self.build_C_table()\n",
        "        self.Occ = self.build_Occ_table()\n",
        "    \n",
        "    def build_C_table(self):\n",
        "        sorted_bwt = sorted(self.bwt)\n",
        "        C = {}\n",
        "        for i in range(len(sorted_bwt)-1, -1, -1):\n",
        "            C[sorted_bwt[i]] = i\n",
        "        return C\n",
        "    \n",
        "    def build_Occ_table(self):\n",
        "        Occ = [{} for _ in range(len(self.bwt))]\n",
        "        for i in range(len(self.bwt)):\n",
        "            for j in self.alphabet + \"$\":\n",
        "                p = Occ[i-1][j] if i > 0 else 0\n",
        "                Occ[i][j] = p + (1 if self.bwt[i] == j else 0)\n",
        "        return Occ\n",
        "    \n",
        "    def lf(self, i):\n",
        "        letter = self.bwt[i]\n",
        "        index = self.C[letter] + self.Occ[i][letter] - 1\n",
        "        return index\n",
        "\n",
        "      \n",
        "\n",
        "dnaAlphabet = \"ACGT\"\n",
        "fmIndex = FmIndex(text, dnaAlphabet)\n",
        "\n",
        "fmIndex.lf(5) == 0\n"
      ],
      "execution_count": 28,
      "outputs": [
        {
          "output_type": "execute_result",
          "data": {
            "text/plain": [
              "True"
            ]
          },
          "metadata": {},
          "execution_count": 28
        }
      ]
    },
    {
      "cell_type": "code",
      "metadata": {
        "id": "XO8RDtA5W9aI",
        "outputId": "f811fde9-c06f-4c44-f6f2-81f4d2badf71",
        "colab": {
          "base_uri": "https://localhost:8080/"
        }
      },
      "source": [
        "# Problem 4 - Use backward search to invert the BWT\n",
        "\n",
        "def invertBwtUsingFmIndex(fmIndex):\n",
        "    bwt = fmIndex.bwt\n",
        "    dollar_index = bwt.index(\"$\")\n",
        "    index = dollar_index\n",
        "    t = \"\"\n",
        "    for i in range(len(bwt)-1, -1, -1):\n",
        "        t = bwt[index] + t\n",
        "        index = fmIndex.lf(index)\n",
        "    return t\n",
        "\n",
        "\n",
        "  \n",
        "\n",
        "invertBwtUsingFmIndex(fmIndex) == \"GATTACA$\""
      ],
      "execution_count": 32,
      "outputs": [
        {
          "output_type": "execute_result",
          "data": {
            "text/plain": [
              "True"
            ]
          },
          "metadata": {},
          "execution_count": 32
        }
      ]
    },
    {
      "cell_type": "markdown",
      "metadata": {
        "id": "khGNJCfkhInl"
      },
      "source": [
        "Problem 4 questions:\n",
        "\n",
        "Q: What is the asymptotic runtime of your invertBwtUsingFmIndex function?\n",
        "my runtime is close to 0s\n",
        "Q2: How does this to compare to the runtime of the invertBWT function?\n",
        "the invertBWT is slower by a slight margin"
      ]
    },
    {
      "cell_type": "code",
      "metadata": {
        "id": "Y5XishWt29jy"
      },
      "source": [
        "# Extra credit: adapt the FmIndex class and add a pattern query method to search for instance of input pattern in t"
      ],
      "execution_count": null,
      "outputs": []
    }
  ]
}