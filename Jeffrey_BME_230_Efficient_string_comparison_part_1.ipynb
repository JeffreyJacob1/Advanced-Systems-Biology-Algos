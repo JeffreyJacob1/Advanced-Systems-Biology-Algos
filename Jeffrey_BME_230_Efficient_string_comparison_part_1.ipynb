{
 "cells": [
  {
   "cell_type": "code",
   "execution_count": 54,
   "metadata": {
    "colab": {
     "base_uri": "https://localhost:8080/"
    },
    "id": "s92l617dK0qU",
    "outputId": "b17593ce-1fca-433a-f5e3-0ccbd9a190ad"
   },
   "outputs": [
    {
     "data": {
      "text/plain": [
       "True"
      ]
     },
     "execution_count": 54,
     "metadata": {},
     "output_type": "execute_result"
    }
   ],
   "source": [
    "# Problem 1 - implement a naive string matching algorithm:\n",
    "\n",
    "pattern = \"CCTTTTGC\"\n",
    "text = \"CGTGCCTACTTACTTACTTACCTTTTGCCTTTTGCACGCGAA\"\n",
    "\n",
    "def naive(p, t):\n",
    "  characterComparisons = 0\n",
    "  occurrences = []\n",
    "  \n",
    "  for i in range(len(t) - len(p) + 1):\n",
    "    #print(i)\n",
    "    match = True\n",
    "    for j in range(len(p)):\n",
    "      characterComparisons += 1\n",
    "      \n",
    "      if t[i+j] != p[j]:\n",
    "        #print(t[i+j], p[j])\n",
    "        match = False\n",
    "        break\n",
    "    if match:\n",
    "      #print(t[i+j], p[j])\n",
    "      occurrences.append(i)\n",
    "  return occurrences, characterComparisons\n",
    "\n",
    "  # Code to complete - do not use find or the \"in\" operator\n",
    "      \n",
    "  return occurrences, characterComparisons\n",
    "\n",
    "naive(pattern, text) == ([20, 27], 60)\n"
   ]
  },
  {
   "cell_type": "code",
   "execution_count": 56,
   "metadata": {
    "colab": {
     "base_uri": "https://localhost:8080/"
    },
    "id": "DPZWlfxCLk-0",
    "outputId": "a053d2a6-9e3b-4913-8de3-3ff8ceabb42b"
   },
   "outputs": [
    {
     "data": {
      "text/plain": [
       "True"
      ]
     },
     "execution_count": 56,
     "metadata": {},
     "output_type": "execute_result"
    }
   ],
   "source": [
    "# Problem 2 - implement the bad character rule:\n",
    "pattern = \"CCTTTTGC\"\n",
    "dnaAlphabet=\"ACGT\"\n",
    "text = \"CGTGCCTACTTACTTACTTACCTTTTGCCTTTTGCACGCGAA\"\n",
    "def makeBadCharacterRuleLookupTable(p, alphabet):\n",
    "    badCharacterRuleLookupTable = [ [1]*len(alphabet) for i in range(len(p)) ]\n",
    "    for i in range(1, len(badCharacterRuleLookupTable)):\n",
    "        for j in range(0, len(alphabet)):\n",
    "            if alphabet[j] != p[i-1]:\n",
    "                badCharacterRuleLookupTable[i][j] = badCharacterRuleLookupTable[i-1][j] + 1\n",
    "    return badCharacterRuleLookupTable\n",
    "          \n",
    "makeBadCharacterRuleLookupTable(pattern, dnaAlphabet) == [[1, 1, 1, 1],\n",
    " [2, 1, 2, 2],\n",
    " [3, 1, 3, 3],\n",
    " [4, 2, 4, 1],\n",
    " [5, 3, 5, 1],\n",
    " [6, 4, 6, 1],\n",
    " [7, 5, 7, 1],\n",
    " [8, 6, 1, 2]]"
   ]
  },
  {
   "cell_type": "code",
   "execution_count": 102,
   "metadata": {
    "colab": {
     "base_uri": "https://localhost:8080/"
    },
    "id": "EnSKkm5k1FvN",
    "outputId": "488d8fe0-bb33-4527-d667-8f96df2cddaf"
   },
   "outputs": [
    {
     "data": {
      "text/plain": [
       "True"
      ]
     },
     "execution_count": 102,
     "metadata": {},
     "output_type": "execute_result"
    }
   ],
   "source": [
    "#  use the bad character rule lookup table to reduce the total number of character comparisons\n",
    "\n",
    "\n",
    "\n",
    "def naivePlusBadCharacter(target_pattern, text, bad_char_lookup_table, alphabet):\n",
    "    comparisons = 0\n",
    "    occurrences = []\n",
    "    alpha_map = {}\n",
    "\n",
    "    # map the characters of the alphabet to their index\n",
    "    for i in range(len(alphabet)):\n",
    "        alpha_map[alphabet[i]] = i\n",
    "    i = 0\n",
    "    range_end = len(text) - len(target_pattern) + 1\n",
    "    while i < range_end:\n",
    "        matched = True\n",
    "        # reverse the text and pattern\n",
    "        text_rev = text[i: i + len(target_pattern)][::-1]\n",
    "        pattern_rev = target_pattern[::-1]\n",
    "        for j in range(len(target_pattern)):\n",
    "            comparisons += 1\n",
    "            # check if the characters match\n",
    "            if text_rev[j] != pattern_rev[j]:\n",
    "                matched = False\n",
    "                # get the index of the letter in the alphabet\n",
    "                letter_index = alpha_map[text_rev[j]]\n",
    "                # get the shift value from the bad character lookup table\n",
    "                shift = bad_char_lookup_table[len(target_pattern) - j - 1][letter_index]\n",
    "                i += shift\n",
    "                break\n",
    "        if matched:\n",
    "            occurrences.append(i)\n",
    "            i += 1\n",
    "    return occurrences, comparisons\n",
    "\n",
    "\n",
    "bclut = makeBadCharacterRuleLookupTable(pattern, dnaAlphabet)\n",
    "naivePlusBadCharacter(pattern, text, bclut, dnaAlphabet) == ([20, 27], 24) #test case , must be true"
   ]
  }
 ],
 "metadata": {
  "colab": {
   "provenance": []
  },
  "kernelspec": {
   "display_name": "Python 3 (ipykernel)",
   "language": "python",
   "name": "python3"
  },
  "language_info": {
   "codemirror_mode": {
    "name": "ipython",
    "version": 3
   },
   "file_extension": ".py",
   "mimetype": "text/x-python",
   "name": "python",
   "nbconvert_exporter": "python",
   "pygments_lexer": "ipython3",
   "version": "3.9.13"
  }
 },
 "nbformat": 4,
 "nbformat_minor": 1
}
